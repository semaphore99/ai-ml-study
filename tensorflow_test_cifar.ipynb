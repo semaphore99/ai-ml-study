{
 "cells": [
  {
   "cell_type": "code",
   "execution_count": 3,
   "metadata": {},
   "outputs": [
    {
     "name": "stdout",
     "output_type": "stream",
     "text": [
      "Epoch 1/10\n",
      "782/782 [==============================] - 15s 19ms/step - loss: 1.5941 - accuracy: 0.4208 - val_loss: 1.3115 - val_accuracy: 0.5368\n",
      "Epoch 2/10\n",
      "782/782 [==============================] - 14s 18ms/step - loss: 1.2737 - accuracy: 0.5504 - val_loss: 1.2511 - val_accuracy: 0.5618\n",
      "Epoch 3/10\n",
      "782/782 [==============================] - 14s 18ms/step - loss: 1.1664 - accuracy: 0.5924 - val_loss: 1.1703 - val_accuracy: 0.5942\n",
      "Epoch 4/10\n",
      "782/782 [==============================] - 14s 18ms/step - loss: 1.1116 - accuracy: 0.6171 - val_loss: 1.1126 - val_accuracy: 0.6103\n",
      "Epoch 5/10\n",
      "782/782 [==============================] - 14s 18ms/step - loss: 1.1647 - accuracy: 0.6089 - val_loss: 1.2489 - val_accuracy: 0.5989\n",
      "Epoch 6/10\n",
      "782/782 [==============================] - 14s 18ms/step - loss: 1.3368 - accuracy: 0.5883 - val_loss: 1.5097 - val_accuracy: 0.5673\n",
      "Epoch 7/10\n",
      "782/782 [==============================] - 15s 19ms/step - loss: 1.6037 - accuracy: 0.5674 - val_loss: 2.1479 - val_accuracy: 0.5185\n",
      "Epoch 8/10\n",
      "782/782 [==============================] - 14s 18ms/step - loss: 2.3766 - accuracy: 0.5248 - val_loss: 3.0778 - val_accuracy: 0.5112\n",
      "Epoch 9/10\n",
      "782/782 [==============================] - 14s 18ms/step - loss: 5.3533 - accuracy: 0.4852 - val_loss: 10.9982 - val_accuracy: 0.4174\n",
      "Epoch 10/10\n",
      "782/782 [==============================] - 14s 18ms/step - loss: 16.1869 - accuracy: 0.4347 - val_loss: 27.3584 - val_accuracy: 0.3997\n",
      "313/313 [==============================] - 3s 10ms/step - loss: 27.3584 - accuracy: 0.3997\n",
      "Test accuracy: 39.97%\n"
     ]
    }
   ],
   "source": [
    "import tensorflow as tf\n",
    "from tensorflow.keras import layers, models\n",
    "from tensorflow.keras.datasets import cifar10\n",
    "from tensorflow.keras.utils import to_categorical\n",
    "\n",
    "# Load and preprocess the CIFAR-10 dataset\n",
    "(train_images, train_labels), (test_images, test_labels) = cifar10.load_data()\n",
    "train_images = train_images.astype('float32') / 255\n",
    "test_images = test_images.astype('float32') / 255\n",
    "\n",
    "train_labels = to_categorical(train_labels)\n",
    "test_labels = to_categorical(test_labels)\n",
    "\n",
    "# Build a deep convolutional neural network\n",
    "model = models.Sequential()\n",
    "model.add(layers.Conv2D(32, (3, 3), activation='relu', input_shape=(32, 32, 3)))\n",
    "model.add(layers.MaxPooling2D((2, 2)))\n",
    "model.add(layers.Conv2D(64, (3, 3), activation='relu'))\n",
    "model.add(layers.MaxPooling2D((2, 2)))\n",
    "model.add(layers.Conv2D(64, (3, 3), activation='relu'))\n",
    "model.add(layers.Flatten())\n",
    "model.add(layers.Dense(64, activation='relu'))\n",
    "model.add(layers.Dense(10, activation='softmax'))\n",
    "\n",
    "# Compile the model\n",
    "model.compile(optimizer='adam',\n",
    "              loss='categorical_crossentropy',\n",
    "              metrics=['accuracy'])\n",
    "\n",
    "# Train the model on GPU\n",
    "# with tf.device('/GPU:0'):\n",
    "model.fit(train_images, train_labels, epochs=10, batch_size=64, validation_data=(test_images, test_labels))\n",
    "\n",
    "# Evaluate the model on the test set\n",
    "test_loss, test_acc = model.evaluate(test_images, test_labels)\n",
    "print(f'Test accuracy: {test_acc * 100:.2f}%')\n"
   ]
  }
 ],
 "metadata": {
  "kernelspec": {
   "display_name": ".venv",
   "language": "python",
   "name": "python3"
  },
  "language_info": {
   "codemirror_mode": {
    "name": "ipython",
    "version": 3
   },
   "file_extension": ".py",
   "mimetype": "text/x-python",
   "name": "python",
   "nbconvert_exporter": "python",
   "pygments_lexer": "ipython3",
   "version": "3.11.6"
  }
 },
 "nbformat": 4,
 "nbformat_minor": 2
}
